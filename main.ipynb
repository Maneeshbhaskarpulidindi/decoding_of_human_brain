{
  "cells": [
    {
      "cell_type": "code",
      "execution_count": 2,
      "id": "GppFo18kSCo9",
      "metadata": {
        "colab": {
          "base_uri": "https://localhost:8080/"
        },
        "id": "GppFo18kSCo9",
        "outputId": "f82a46f1-6391-4196-a143-51aaec87a56b"
      },
      "outputs": [
        {
          "output_type": "stream",
          "name": "stdout",
          "text": [
            "Mounted at /content/drive\n"
          ]
        }
      ],
      "source": [
        "from google.colab import drive\n",
        "drive.mount('/content/drive')"
      ]
    },
    {
      "cell_type": "code",
      "execution_count": 3,
      "id": "7uTwMh9a3EPX",
      "metadata": {
        "id": "7uTwMh9a3EPX"
      },
      "outputs": [],
      "source": [
        "import sys\n",
        "sys.path.append('/content/drive/MyDrive/Project/models') # append the directory containing the module"
      ]
    },
    {
      "cell_type": "code",
      "execution_count": 4,
      "id": "4b1e3d02",
      "metadata": {
        "id": "4b1e3d02"
      },
      "outputs": [],
      "source": [
        "import torch\n",
        "import torch.nn as nn\n",
        "import torch.optim as optim\n",
        "import torch.nn.functional as F\n",
        "import EncoderEEG\n",
        "import deepcnn\n",
        "import cnn2dlstm\n",
        "import cnn1dlstm\n",
        "import traintest"
      ]
    },
    {
      "cell_type": "code",
      "execution_count": 30,
      "id": "jnd1kYenHg0n",
      "metadata": {
        "colab": {
          "base_uri": "https://localhost:8080/"
        },
        "id": "jnd1kYenHg0n",
        "outputId": "f5450bc1-24ff-43b8-bdb5-757ff159b099"
      },
      "outputs": [
        {
          "output_type": "execute_result",
          "data": {
            "text/plain": [
              "<module 'traintest' from '/content/drive/MyDrive/Project/models/traintest.py'>"
            ]
          },
          "metadata": {},
          "execution_count": 30
        }
      ],
      "source": [
        "import importlib\n",
        "importlib.reload(traintest) # reload the module"
      ]
    },
    {
      "cell_type": "code",
      "execution_count": 5,
      "id": "g4eXuZGjGY0m",
      "metadata": {
        "colab": {
          "base_uri": "https://localhost:8080/"
        },
        "id": "g4eXuZGjGY0m",
        "outputId": "fe76e5e6-25f0-4441-8371-7890a3312730"
      },
      "outputs": [
        {
          "output_type": "stream",
          "name": "stdout",
          "text": [
            "GPU Name: Tesla T4\n"
          ]
        }
      ],
      "source": [
        "torch.cuda.is_available()\n",
        "if torch.cuda.is_available():\n",
        "    print(\"GPU Name:\", torch.cuda.get_device_name(0))"
      ]
    },
    {
      "cell_type": "code",
      "execution_count": 6,
      "id": "5a8b916f",
      "metadata": {
        "colab": {
          "base_uri": "https://localhost:8080/"
        },
        "id": "5a8b916f",
        "outputId": "1944cd2f-247c-40fd-b679-992c902feb51",
        "scrolled": true
      },
      "outputs": [
        {
          "output_type": "stream",
          "name": "stderr",
          "text": [
            "<ipython-input-6-c1ae3ad9eb8b>:1: FutureWarning: You are using `torch.load` with `weights_only=False` (the current default value), which uses the default pickle module implicitly. It is possible to construct malicious pickle data which will execute arbitrary code during unpickling (See https://github.com/pytorch/pytorch/blob/main/SECURITY.md#untrusted-models for more details). In a future release, the default value for `weights_only` will be flipped to `True`. This limits the functions that could be executed during unpickling. Arbitrary objects will no longer be allowed to be loaded via this mode unless they are explicitly allowlisted by the user via `torch.serialization.add_safe_globals`. We recommend you start setting `weights_only=True` for any use case where you don't have full control of the loaded file. Please open an issue on GitHub for any issues related to this experimental feature.\n",
            "  dataset=torch.load(r\"/content/drive/MyDrive/Project/eeg_55_95_std.pth\")\n"
          ]
        },
        {
          "output_type": "stream",
          "name": "stdout",
          "text": [
            "['n02389026', 'n03888257', 'n03584829', 'n02607072', 'n03297495', 'n03063599', 'n03792782', 'n04086273', 'n02510455', 'n11939491', 'n02951358', 'n02281787', 'n02106662', 'n04120489', 'n03590841', 'n02992529', 'n03445777', 'n03180011', 'n02906734', 'n07873807', 'n03773504', 'n02492035', 'n03982430', 'n03709823', 'n03100240', 'n03376595', 'n03877472', 'n03775071', 'n03272010', 'n04069434', 'n03452741', 'n03792972', 'n07753592', 'n13054560', 'n03197337', 'n02504458', 'n02690373', 'n03272562', 'n04044716', 'n02124075']\n"
          ]
        }
      ],
      "source": [
        "dataset=torch.load(r\"/content/drive/MyDrive/Project/eeg_55_95_std.pth\")\n",
        "labels=dataset['labels']\n",
        "print(labels)"
      ]
    },
    {
      "cell_type": "code",
      "execution_count": 7,
      "id": "543b6665",
      "metadata": {
        "id": "543b6665"
      },
      "outputs": [],
      "source": [
        "data=dataset['dataset']"
      ]
    },
    {
      "cell_type": "code",
      "execution_count": 8,
      "id": "d3932698",
      "metadata": {
        "colab": {
          "base_uri": "https://localhost:8080/"
        },
        "id": "d3932698",
        "outputId": "49c2b38d-28e9-4ea8-ed72-9fcea7531a43"
      },
      "outputs": [
        {
          "output_type": "stream",
          "name": "stderr",
          "text": [
            "<ipython-input-8-418aa34d7d22>:1: FutureWarning: You are using `torch.load` with `weights_only=False` (the current default value), which uses the default pickle module implicitly. It is possible to construct malicious pickle data which will execute arbitrary code during unpickling (See https://github.com/pytorch/pytorch/blob/main/SECURITY.md#untrusted-models for more details). In a future release, the default value for `weights_only` will be flipped to `True`. This limits the functions that could be executed during unpickling. Arbitrary objects will no longer be allowed to be loaded via this mode unless they are explicitly allowlisted by the user via `torch.serialization.add_safe_globals`. We recommend you start setting `weights_only=True` for any use case where you don't have full control of the loaded file. Please open an issue on GitHub for any issues related to this experimental feature.\n",
            "  splits=torch.load(r\"/content/drive/MyDrive/Project/block_splits_by_image_all.pth\")\n"
          ]
        }
      ],
      "source": [
        "splits=torch.load(r\"/content/drive/MyDrive/Project/block_splits_by_image_all.pth\")"
      ]
    },
    {
      "cell_type": "code",
      "execution_count": 9,
      "id": "5d2b63d9",
      "metadata": {
        "id": "5d2b63d9"
      },
      "outputs": [],
      "source": [
        "x_train,x_val,x_test,y_train,y_val,y_test=traintest.Splitter(data,splits,subject_no=0)"
      ]
    },
    {
      "cell_type": "code",
      "execution_count": 10,
      "id": "43edb441",
      "metadata": {
        "id": "43edb441"
      },
      "outputs": [],
      "source": [
        "# For using 2D CNN or similar models, we need to add an extra dimension to our data for which we can use unsqueeze function\n",
        "\n",
        "x_train=torch.stack(x_train)\n",
        "#x_train=x_train.unsqueeze(3)\n",
        "x_val=torch.stack(x_val)\n",
        "#x_val=x_val.unsqueeze(3)\n",
        "x_test=torch.stack(x_test)\n",
        "#x_test=x_test.unsqueeze(3)\n",
        "y_train=torch.tensor(y_train)\n",
        "y_val=torch.tensor(y_val)\n",
        "y_test=torch.tensor(y_test)"
      ]
    },
    {
      "cell_type": "code",
      "execution_count": 11,
      "id": "IK1_sKZiKX04",
      "metadata": {
        "id": "IK1_sKZiKX04"
      },
      "outputs": [],
      "source": [
        "device = torch.device(\"cuda\" if torch.cuda.is_available() else \"cpu\")"
      ]
    },
    {
      "cell_type": "code",
      "execution_count": 12,
      "id": "e9ff4590",
      "metadata": {
        "id": "e9ff4590"
      },
      "outputs": [],
      "source": [
        "from torch.utils.data import DataLoader, TensorDataset\n",
        "\n",
        "train_dataset = TensorDataset(x_train, y_train)\n",
        "val_dataset = TensorDataset(x_val,y_val)\n",
        "test_dataset = TensorDataset(x_test,y_test)\n",
        "train_loader = DataLoader(train_dataset, batch_size=16, shuffle=True)\n",
        "val_loader = DataLoader(val_dataset,batch_size=16,shuffle=True)\n",
        "test_loader = DataLoader(test_dataset,batch_size=16,shuffle=True)"
      ]
    },
    {
      "cell_type": "code",
      "execution_count": null,
      "id": "8187c2e1",
      "metadata": {
        "colab": {
          "base_uri": "https://localhost:8080/"
        },
        "id": "8187c2e1",
        "outputId": "c3008625-44c6-4ecd-aa68-1cdd62cdfde5",
        "scrolled": true
      },
      "outputs": [
        {
          "name": "stdout",
          "output_type": "stream",
          "text": [
            "EEGEncoder(\n",
            "  (temporal_block): TemporalBlock(\n",
            "    (network): Sequential(\n",
            "      (0): Conv1d(128, 64, kernel_size=(3,), stride=(1,), padding=(3,))\n",
            "      (1): ReLU()\n",
            "      (2): Conv1d(64, 64, kernel_size=(3,), stride=(1,), padding=(6,), dilation=(2,))\n",
            "      (3): ReLU()\n",
            "      (4): Conv1d(64, 64, kernel_size=(3,), stride=(1,), padding=(12,), dilation=(4,))\n",
            "      (5): ReLU()\n",
            "      (6): Conv1d(64, 64, kernel_size=(3,), stride=(1,), padding=(24,), dilation=(8,))\n",
            "      (7): ReLU()\n",
            "    )\n",
            "  )\n",
            "  (spatial_block): SpatialBlock(\n",
            "    (network): Sequential(\n",
            "      (0): Conv2d(1, 32, kernel_size=(3, 3), stride=(1, 1), padding=(1, 1))\n",
            "      (1): BatchNorm2d(32, eps=1e-05, momentum=0.1, affine=True, track_running_stats=True)\n",
            "      (2): ReLU()\n",
            "      (3): Conv2d(32, 32, kernel_size=(3, 3), stride=(1, 1), padding=(1, 1))\n",
            "      (4): BatchNorm2d(32, eps=1e-05, momentum=0.1, affine=True, track_running_stats=True)\n",
            "      (5): ReLU()\n",
            "    )\n",
            "  )\n",
            "  (res_blocks): ModuleList(\n",
            "    (0-1): 2 x ResidualBlock(\n",
            "      (conv1): Conv2d(32, 32, kernel_size=(3, 3), stride=(1, 1), padding=(1, 1))\n",
            "      (conv2): Conv2d(32, 32, kernel_size=(3, 3), stride=(1, 1), padding=(1, 1))\n",
            "      (relu): ReLU()\n",
            "    )\n",
            "  )\n",
            "  (fc): Linear(in_features=32, out_features=40, bias=True)\n",
            ")\n"
          ]
        }
      ],
      "source": [
        "num_classes = 40\n",
        "learning_rate = 0.005\n",
        "num_epochs = 50\n",
        "\n",
        "model = EncoderEEG.EEGEncoder(num_classes=40).to(device)\n",
        "print(model)\n",
        "criterion = nn.CrossEntropyLoss()\n",
        "optimizer = optim.Adam(model.parameters(), lr=learning_rate)"
      ]
    },
    {
      "cell_type": "code",
      "execution_count": null,
      "id": "2b95e399",
      "metadata": {
        "id": "2b95e399"
      },
      "outputs": [],
      "source": [
        "#for inputs,labels in train_loader:\n",
        " #   print(inputs.shape)"
      ]
    },
    {
      "cell_type": "code",
      "execution_count": null,
      "id": "f6408d1a",
      "metadata": {
        "colab": {
          "base_uri": "https://localhost:8080/"
        },
        "id": "f6408d1a",
        "outputId": "c4fc493d-2c41-40a5-9a2a-c20748082937",
        "scrolled": true
      },
      "outputs": [
        {
          "name": "stdout",
          "output_type": "stream",
          "text": [
            "Epoch 1/50, Training Loss: 3.6681, Validation Loss: 3.6328, Training Accuracy: 3.14%, Validation Accuracy: 2.40%\n",
            "Epoch 2/50, Training Loss: 3.5224, Validation Loss: 3.4731, Training Accuracy: 4.09%, Validation Accuracy: 4.30%\n",
            "Epoch 3/50, Training Loss: 3.2692, Validation Loss: 3.1000, Training Accuracy: 5.50%, Validation Accuracy: 7.56%\n",
            "Epoch 4/50, Training Loss: 2.9927, Validation Loss: 3.1904, Training Accuracy: 7.69%, Validation Accuracy: 6.16%\n",
            "Epoch 5/50, Training Loss: 2.7882, Validation Loss: 2.6539, Training Accuracy: 9.79%, Validation Accuracy: 12.06%\n",
            "Epoch 6/50, Training Loss: 2.6276, Validation Loss: 2.5618, Training Accuracy: 11.04%, Validation Accuracy: 11.21%\n",
            "Epoch 7/50, Training Loss: 2.5078, Validation Loss: 2.5470, Training Accuracy: 13.96%, Validation Accuracy: 14.66%\n",
            "Epoch 8/50, Training Loss: 2.4525, Validation Loss: 2.3131, Training Accuracy: 13.96%, Validation Accuracy: 15.82%\n",
            "Epoch 9/50, Training Loss: 2.3989, Validation Loss: 2.3749, Training Accuracy: 14.69%, Validation Accuracy: 14.26%\n",
            "Epoch 10/50, Training Loss: 2.2886, Validation Loss: 2.4680, Training Accuracy: 16.95%, Validation Accuracy: 12.96%\n",
            "Epoch 11/50, Training Loss: 2.2324, Validation Loss: 2.3786, Training Accuracy: 17.63%, Validation Accuracy: 15.22%\n",
            "Epoch 12/50, Training Loss: 2.1723, Validation Loss: 2.1229, Training Accuracy: 18.86%, Validation Accuracy: 19.72%\n",
            "Epoch 13/50, Training Loss: 2.1380, Validation Loss: 2.0936, Training Accuracy: 20.18%, Validation Accuracy: 20.87%\n",
            "Epoch 14/50, Training Loss: 2.0572, Validation Loss: 2.0016, Training Accuracy: 22.07%, Validation Accuracy: 23.77%\n",
            "Epoch 15/50, Training Loss: 2.0611, Validation Loss: 2.0980, Training Accuracy: 22.10%, Validation Accuracy: 21.82%\n",
            "Epoch 16/50, Training Loss: 1.9840, Validation Loss: 2.0339, Training Accuracy: 23.40%, Validation Accuracy: 20.57%\n",
            "Epoch 17/50, Training Loss: 1.9255, Validation Loss: 1.9182, Training Accuracy: 24.99%, Validation Accuracy: 25.03%\n",
            "Epoch 18/50, Training Loss: 1.8833, Validation Loss: 2.0837, Training Accuracy: 26.17%, Validation Accuracy: 23.87%\n",
            "Epoch 19/50, Training Loss: 1.8612, Validation Loss: 1.8558, Training Accuracy: 27.06%, Validation Accuracy: 26.18%\n",
            "Epoch 20/50, Training Loss: 1.8208, Validation Loss: 1.8426, Training Accuracy: 28.18%, Validation Accuracy: 27.98%\n",
            "Epoch 21/50, Training Loss: 1.7879, Validation Loss: 1.8875, Training Accuracy: 28.76%, Validation Accuracy: 27.68%\n",
            "Epoch 22/50, Training Loss: 1.7609, Validation Loss: 1.8561, Training Accuracy: 29.32%, Validation Accuracy: 28.28%\n",
            "Epoch 23/50, Training Loss: 1.7451, Validation Loss: 1.7871, Training Accuracy: 29.81%, Validation Accuracy: 28.53%\n",
            "Epoch 24/50, Training Loss: 1.7373, Validation Loss: 1.7414, Training Accuracy: 30.51%, Validation Accuracy: 29.63%\n",
            "Epoch 25/50, Training Loss: 1.7088, Validation Loss: 1.7829, Training Accuracy: 30.99%, Validation Accuracy: 30.03%\n",
            "Epoch 26/50, Training Loss: 1.6599, Validation Loss: 1.8940, Training Accuracy: 32.23%, Validation Accuracy: 28.68%\n",
            "Epoch 27/50, Training Loss: 1.6491, Validation Loss: 1.8946, Training Accuracy: 33.31%, Validation Accuracy: 27.53%\n",
            "Epoch 28/50, Training Loss: 1.6370, Validation Loss: 1.7841, Training Accuracy: 33.51%, Validation Accuracy: 30.13%\n",
            "Epoch 29/50, Training Loss: 1.5939, Validation Loss: 1.6879, Training Accuracy: 35.07%, Validation Accuracy: 32.63%\n",
            "Epoch 30/50, Training Loss: 1.6005, Validation Loss: 1.8109, Training Accuracy: 34.64%, Validation Accuracy: 29.58%\n",
            "Epoch 31/50, Training Loss: 1.5580, Validation Loss: 1.7384, Training Accuracy: 36.55%, Validation Accuracy: 34.23%\n",
            "Epoch 32/50, Training Loss: 1.5534, Validation Loss: 1.6440, Training Accuracy: 36.16%, Validation Accuracy: 32.48%\n",
            "Epoch 33/50, Training Loss: 1.5323, Validation Loss: 1.6433, Training Accuracy: 37.05%, Validation Accuracy: 32.93%\n",
            "Epoch 34/50, Training Loss: 1.4875, Validation Loss: 1.7232, Training Accuracy: 39.18%, Validation Accuracy: 31.98%\n",
            "Epoch 35/50, Training Loss: 1.5178, Validation Loss: 1.7790, Training Accuracy: 37.11%, Validation Accuracy: 29.73%\n",
            "Epoch 36/50, Training Loss: 1.4682, Validation Loss: 1.7890, Training Accuracy: 39.37%, Validation Accuracy: 31.73%\n",
            "Epoch 37/50, Training Loss: 1.4606, Validation Loss: 1.5933, Training Accuracy: 38.76%, Validation Accuracy: 36.29%\n",
            "Epoch 38/50, Training Loss: 1.4223, Validation Loss: 1.7513, Training Accuracy: 41.52%, Validation Accuracy: 31.28%\n",
            "Epoch 39/50, Training Loss: 1.4042, Validation Loss: 1.9263, Training Accuracy: 41.92%, Validation Accuracy: 30.78%\n",
            "Epoch 40/50, Training Loss: 1.4192, Validation Loss: 1.7131, Training Accuracy: 41.71%, Validation Accuracy: 34.43%\n",
            "Epoch 41/50, Training Loss: 1.4233, Validation Loss: 1.5855, Training Accuracy: 41.64%, Validation Accuracy: 37.19%\n",
            "Epoch 42/50, Training Loss: 1.3665, Validation Loss: 1.5723, Training Accuracy: 42.97%, Validation Accuracy: 37.54%\n",
            "Epoch 43/50, Training Loss: 1.3612, Validation Loss: 1.6408, Training Accuracy: 42.86%, Validation Accuracy: 36.59%\n",
            "Epoch 44/50, Training Loss: 1.3411, Validation Loss: 1.5286, Training Accuracy: 44.14%, Validation Accuracy: 40.94%\n",
            "Epoch 45/50, Training Loss: 1.3502, Validation Loss: 1.5621, Training Accuracy: 44.50%, Validation Accuracy: 36.54%\n",
            "Epoch 46/50, Training Loss: 1.2888, Validation Loss: 1.5695, Training Accuracy: 46.15%, Validation Accuracy: 36.24%\n",
            "Epoch 47/50, Training Loss: 1.3119, Validation Loss: 1.5089, Training Accuracy: 45.61%, Validation Accuracy: 39.99%\n",
            "Epoch 48/50, Training Loss: 1.2604, Validation Loss: 1.5494, Training Accuracy: 47.85%, Validation Accuracy: 39.69%\n",
            "Epoch 49/50, Training Loss: 1.2625, Validation Loss: 1.4658, Training Accuracy: 47.78%, Validation Accuracy: 40.04%\n",
            "Epoch 50/50, Training Loss: 1.2515, Validation Loss: 1.5001, Training Accuracy: 48.27%, Validation Accuracy: 39.14%\n"
          ]
        }
      ],
      "source": [
        "# Call training function\n",
        "traintest.train_model(model, train_loader, val_loader,criterion,optimizer,num_epochs)"
      ]
    },
    {
      "cell_type": "code",
      "execution_count": null,
      "id": "bb145407",
      "metadata": {
        "colab": {
          "base_uri": "https://localhost:8080/"
        },
        "id": "bb145407",
        "outputId": "0c402735-9dec-46c1-f33c-b50613db5f07"
      },
      "outputs": [
        {
          "name": "stdout",
          "output_type": "stream",
          "text": [
            "Test Accuracy: 40.16%\n"
          ]
        }
      ],
      "source": [
        "traintest.evaluate_model(model, test_loader)"
      ]
    },
    {
      "cell_type": "code",
      "execution_count": null,
      "id": "K1TvkMH4cf_E",
      "metadata": {
        "id": "K1TvkMH4cf_E"
      },
      "outputs": [],
      "source": [
        "#Saving the model\n",
        "\n",
        "torch.save(model.state_dict(), 'EEGEncoder_state_dict.pth')  # Save only the state dict\n",
        "torch.save(model, 'EEGEncoder.pth')  # Save the entire model\n",
        "torch.save(optimizer.state_dict(), 'optimizer_state_dict.pth')"
      ]
    },
    {
      "cell_type": "markdown",
      "id": "6ybYD57mfMak",
      "metadata": {
        "id": "6ybYD57mfMak"
      },
      "source": [
        "##Further Training for a few more epochs"
      ]
    },
    {
      "cell_type": "code",
      "execution_count": 17,
      "id": "xocMo07xiLPK",
      "metadata": {
        "colab": {
          "base_uri": "https://localhost:8080/"
        },
        "id": "xocMo07xiLPK",
        "outputId": "0955f2cd-dc11-4e0b-be88-ef1cbea0381e"
      },
      "outputs": [
        {
          "output_type": "stream",
          "name": "stderr",
          "text": [
            "<ipython-input-17-66adb7acfd41>:1: FutureWarning: You are using `torch.load` with `weights_only=False` (the current default value), which uses the default pickle module implicitly. It is possible to construct malicious pickle data which will execute arbitrary code during unpickling (See https://github.com/pytorch/pytorch/blob/main/SECURITY.md#untrusted-models for more details). In a future release, the default value for `weights_only` will be flipped to `True`. This limits the functions that could be executed during unpickling. Arbitrary objects will no longer be allowed to be loaded via this mode unless they are explicitly allowlisted by the user via `torch.serialization.add_safe_globals`. We recommend you start setting `weights_only=True` for any use case where you don't have full control of the loaded file. Please open an issue on GitHub for any issues related to this experimental feature.\n",
            "  model = torch.load('/content/drive/MyDrive/Project/EEGEncoder.pth', map_location=device)\n",
            "<ipython-input-17-66adb7acfd41>:2: FutureWarning: You are using `torch.load` with `weights_only=False` (the current default value), which uses the default pickle module implicitly. It is possible to construct malicious pickle data which will execute arbitrary code during unpickling (See https://github.com/pytorch/pytorch/blob/main/SECURITY.md#untrusted-models for more details). In a future release, the default value for `weights_only` will be flipped to `True`. This limits the functions that could be executed during unpickling. Arbitrary objects will no longer be allowed to be loaded via this mode unless they are explicitly allowlisted by the user via `torch.serialization.add_safe_globals`. We recommend you start setting `weights_only=True` for any use case where you don't have full control of the loaded file. Please open an issue on GitHub for any issues related to this experimental feature.\n",
            "  model.load_state_dict(torch.load('/content/drive/MyDrive/Project/EEGEncoder_state_dict.pth',  map_location=device))\n",
            "<ipython-input-17-66adb7acfd41>:4: FutureWarning: You are using `torch.load` with `weights_only=False` (the current default value), which uses the default pickle module implicitly. It is possible to construct malicious pickle data which will execute arbitrary code during unpickling (See https://github.com/pytorch/pytorch/blob/main/SECURITY.md#untrusted-models for more details). In a future release, the default value for `weights_only` will be flipped to `True`. This limits the functions that could be executed during unpickling. Arbitrary objects will no longer be allowed to be loaded via this mode unless they are explicitly allowlisted by the user via `torch.serialization.add_safe_globals`. We recommend you start setting `weights_only=True` for any use case where you don't have full control of the loaded file. Please open an issue on GitHub for any issues related to this experimental feature.\n",
            "  optimizer.load_state_dict(torch.load('/content/drive/MyDrive/Project/optimizer_state_dict.pth'))\n"
          ]
        }
      ],
      "source": [
        "model = torch.load('/content/drive/MyDrive/Project/EEGEncoder.pth', map_location=device)\n",
        "model.load_state_dict(torch.load('/content/drive/MyDrive/Project/EEGEncoder_state_dict.pth',  map_location=device))\n",
        "optimizer = torch.optim.Adam(model.parameters(), lr=0.0025)\n",
        "optimizer.load_state_dict(torch.load('/content/drive/MyDrive/Project/optimizer_state_dict.pth'))\n",
        "criterion = nn.CrossEntropyLoss()"
      ]
    },
    {
      "cell_type": "code",
      "execution_count": 18,
      "id": "6pt-a_NEl9D6",
      "metadata": {
        "colab": {
          "base_uri": "https://localhost:8080/"
        },
        "id": "6pt-a_NEl9D6",
        "outputId": "9b8a7d7b-8610-490e-a04a-86106d41c3cb"
      },
      "outputs": [
        {
          "output_type": "stream",
          "name": "stdout",
          "text": [
            "Epoch 1/50, Training Loss: 1.2439, Validation Loss: 1.5288, Training Accuracy: 48.01%, Validation Accuracy: 39.99%\n",
            "Epoch 2/50, Training Loss: 1.2098, Validation Loss: 1.6303, Training Accuracy: 49.72%, Validation Accuracy: 37.54%\n",
            "Epoch 3/50, Training Loss: 1.2020, Validation Loss: 1.4892, Training Accuracy: 49.99%, Validation Accuracy: 43.29%\n",
            "Epoch 4/50, Training Loss: 1.1870, Validation Loss: 1.6133, Training Accuracy: 50.94%, Validation Accuracy: 39.64%\n",
            "Epoch 5/50, Training Loss: 1.2102, Validation Loss: 1.7851, Training Accuracy: 50.26%, Validation Accuracy: 33.78%\n",
            "Epoch 6/50, Training Loss: 1.2077, Validation Loss: 1.5425, Training Accuracy: 50.95%, Validation Accuracy: 41.94%\n",
            "Epoch 7/50, Training Loss: 1.1361, Validation Loss: 1.6269, Training Accuracy: 52.66%, Validation Accuracy: 38.79%\n",
            "Epoch 8/50, Training Loss: 1.1485, Validation Loss: 1.5961, Training Accuracy: 52.23%, Validation Accuracy: 40.09%\n",
            "Epoch 9/50, Training Loss: 1.1455, Validation Loss: 1.5102, Training Accuracy: 52.55%, Validation Accuracy: 40.99%\n",
            "Epoch 10/50, Training Loss: 1.1087, Validation Loss: 1.5693, Training Accuracy: 54.52%, Validation Accuracy: 39.94%\n",
            "Epoch 11/50, Training Loss: 1.1027, Validation Loss: 1.5797, Training Accuracy: 54.44%, Validation Accuracy: 39.44%\n",
            "Epoch 12/50, Training Loss: 1.1275, Validation Loss: 1.6468, Training Accuracy: 53.83%, Validation Accuracy: 38.09%\n",
            "Epoch 13/50, Training Loss: 1.0855, Validation Loss: 1.5745, Training Accuracy: 55.37%, Validation Accuracy: 41.84%\n",
            "Epoch 14/50, Training Loss: 1.0594, Validation Loss: 1.5889, Training Accuracy: 56.24%, Validation Accuracy: 42.24%\n",
            "Epoch 15/50, Training Loss: 1.0472, Validation Loss: 1.6526, Training Accuracy: 56.45%, Validation Accuracy: 38.74%\n",
            "Epoch 16/50, Training Loss: 1.0678, Validation Loss: 1.5192, Training Accuracy: 57.14%, Validation Accuracy: 44.29%\n",
            "Epoch 17/50, Training Loss: 1.0480, Validation Loss: 1.5902, Training Accuracy: 56.79%, Validation Accuracy: 41.19%\n",
            "Epoch 18/50, Training Loss: 1.0393, Validation Loss: 1.4998, Training Accuracy: 57.72%, Validation Accuracy: 43.64%\n",
            "Epoch 19/50, Training Loss: 1.0203, Validation Loss: 1.6957, Training Accuracy: 58.11%, Validation Accuracy: 40.09%\n",
            "Epoch 20/50, Training Loss: 1.0166, Validation Loss: 1.4950, Training Accuracy: 58.39%, Validation Accuracy: 45.20%\n",
            "Epoch 21/50, Training Loss: 1.0010, Validation Loss: 1.4948, Training Accuracy: 58.96%, Validation Accuracy: 42.94%\n",
            "Epoch 22/50, Training Loss: 0.9963, Validation Loss: 1.5984, Training Accuracy: 59.07%, Validation Accuracy: 42.54%\n",
            "Epoch 23/50, Training Loss: 0.9886, Validation Loss: 1.5677, Training Accuracy: 59.31%, Validation Accuracy: 42.89%\n",
            "Epoch 24/50, Training Loss: 1.0002, Validation Loss: 1.6752, Training Accuracy: 59.81%, Validation Accuracy: 41.29%\n",
            "Epoch 25/50, Training Loss: 0.9944, Validation Loss: 1.5930, Training Accuracy: 60.09%, Validation Accuracy: 43.19%\n",
            "Epoch 26/50, Training Loss: 0.9854, Validation Loss: 1.5107, Training Accuracy: 60.14%, Validation Accuracy: 45.05%\n",
            "Epoch 27/50, Training Loss: 0.9524, Validation Loss: 1.5478, Training Accuracy: 60.59%, Validation Accuracy: 44.14%\n",
            "Epoch 28/50, Training Loss: 0.9595, Validation Loss: 1.4969, Training Accuracy: 61.78%, Validation Accuracy: 43.79%\n",
            "Epoch 29/50, Training Loss: 0.9302, Validation Loss: 1.5860, Training Accuracy: 62.13%, Validation Accuracy: 43.49%\n",
            "Epoch 30/50, Training Loss: 0.9288, Validation Loss: 1.5909, Training Accuracy: 62.40%, Validation Accuracy: 44.19%\n",
            "Epoch 31/50, Training Loss: 0.9259, Validation Loss: 1.5412, Training Accuracy: 62.65%, Validation Accuracy: 45.25%\n",
            "Epoch 32/50, Training Loss: 0.9401, Validation Loss: 1.4721, Training Accuracy: 62.05%, Validation Accuracy: 48.20%\n",
            "Epoch 33/50, Training Loss: 0.9283, Validation Loss: 1.5236, Training Accuracy: 62.01%, Validation Accuracy: 46.35%\n",
            "Epoch 34/50, Training Loss: 0.9068, Validation Loss: 1.5817, Training Accuracy: 63.54%, Validation Accuracy: 42.34%\n",
            "Epoch 35/50, Training Loss: 0.9041, Validation Loss: 1.7280, Training Accuracy: 63.50%, Validation Accuracy: 43.69%\n",
            "Epoch 36/50, Training Loss: 0.8914, Validation Loss: 1.4856, Training Accuracy: 64.14%, Validation Accuracy: 45.50%\n",
            "Epoch 37/50, Training Loss: 0.8835, Validation Loss: 1.7107, Training Accuracy: 64.40%, Validation Accuracy: 43.04%\n",
            "Epoch 38/50, Training Loss: 0.8779, Validation Loss: 1.7520, Training Accuracy: 64.86%, Validation Accuracy: 41.99%\n",
            "Epoch 39/50, Training Loss: 0.8805, Validation Loss: 1.5670, Training Accuracy: 65.16%, Validation Accuracy: 44.64%\n",
            "Epoch 40/50, Training Loss: 0.8662, Validation Loss: 1.6012, Training Accuracy: 65.67%, Validation Accuracy: 45.50%\n",
            "Epoch 41/50, Training Loss: 0.8571, Validation Loss: 1.6743, Training Accuracy: 66.02%, Validation Accuracy: 43.94%\n",
            "Epoch 42/50, Training Loss: 0.8397, Validation Loss: 1.6642, Training Accuracy: 66.84%, Validation Accuracy: 43.49%\n",
            "Epoch 43/50, Training Loss: 0.8405, Validation Loss: 1.6130, Training Accuracy: 67.26%, Validation Accuracy: 47.00%\n",
            "Epoch 44/50, Training Loss: 0.8409, Validation Loss: 1.6311, Training Accuracy: 66.76%, Validation Accuracy: 45.60%\n",
            "Epoch 45/50, Training Loss: 0.7927, Validation Loss: 1.7131, Training Accuracy: 68.61%, Validation Accuracy: 43.74%\n",
            "Epoch 46/50, Training Loss: 0.8369, Validation Loss: 1.6786, Training Accuracy: 66.52%, Validation Accuracy: 43.94%\n",
            "Epoch 47/50, Training Loss: 0.8379, Validation Loss: 1.7321, Training Accuracy: 66.54%, Validation Accuracy: 43.14%\n",
            "Epoch 48/50, Training Loss: 0.8082, Validation Loss: 1.7895, Training Accuracy: 68.02%, Validation Accuracy: 45.20%\n",
            "Epoch 49/50, Training Loss: 0.8066, Validation Loss: 1.7134, Training Accuracy: 68.01%, Validation Accuracy: 44.89%\n",
            "Epoch 50/50, Training Loss: 0.8135, Validation Loss: 1.7693, Training Accuracy: 68.32%, Validation Accuracy: 42.29%\n"
          ]
        }
      ],
      "source": [
        "traintest.train_model(model, train_loader, val_loader,criterion,optimizer,device,num_epochs=50)"
      ]
    },
    {
      "cell_type": "code",
      "execution_count": 19,
      "id": "mpML698RvClW",
      "metadata": {
        "colab": {
          "base_uri": "https://localhost:8080/"
        },
        "id": "mpML698RvClW",
        "outputId": "8f850822-c83a-4de2-c13d-b86023f5eb28"
      },
      "outputs": [
        {
          "output_type": "stream",
          "name": "stdout",
          "text": [
            "Test Accuracy: 44.82%\n"
          ]
        }
      ],
      "source": [
        "traintest.evaluate_model(model, test_loader, device)"
      ]
    },
    {
      "cell_type": "code",
      "execution_count": 21,
      "id": "wGbVivhAyEhQ",
      "metadata": {
        "id": "wGbVivhAyEhQ"
      },
      "outputs": [],
      "source": [
        "#Saving the model\n",
        "\n",
        "torch.save(model.state_dict(), 'EEGEncoder_state_dict2.pth')  # Save only the state dict\n",
        "torch.save(model, 'EEGEncoder2.pth')  # Save the entire model\n",
        "torch.save(optimizer.state_dict(), 'optimizer_state_dict2.pth')"
      ]
    },
    {
      "cell_type": "markdown",
      "id": "GcUh4qrydmSe",
      "metadata": {
        "id": "GcUh4qrydmSe"
      },
      "source": [
        "## Not Relevant"
      ]
    },
    {
      "cell_type": "code",
      "execution_count": null,
      "id": "bb52a13e",
      "metadata": {
        "colab": {
          "base_uri": "https://localhost:8080/"
        },
        "id": "bb52a13e",
        "outputId": "51507c19-f804-492e-e784-d4b42111f53c"
      },
      "outputs": [
        {
          "name": "stdout",
          "output_type": "stream",
          "text": [
            "An error occurred: Given groups=1, weight of size [64, 40, 3], expected input[16, 128, 440] to have 40 channels, but got 128 channels instead\n"
          ]
        }
      ],
      "source": [
        "sample_input = torch.randn(16, 128, 440)  # Create a sample input tensor\n",
        "\n",
        "# Initialize your model\n",
        "num_classes = 40  # Adjust based on the number of classes in your task\n",
        "model =EncoderEEG.EEGEncoder(num_classes)  # Use the correct model name here\n",
        "\n",
        "# Pass the sample input through the model\n",
        "try:\n",
        "    output = model(sample_input)\n",
        "    print(\"Output shape:\", output.shape)  # Print the output shape\n",
        "except Exception as e:\n",
        "    print(\"An error occurred:\", e)"
      ]
    },
    {
      "cell_type": "code",
      "execution_count": null,
      "id": "87491061",
      "metadata": {
        "id": "87491061",
        "outputId": "8e5659d6-dfeb-4431-c780-294dd83dceb9"
      },
      "outputs": [
        {
          "name": "stdout",
          "output_type": "stream",
          "text": [
            "<bound method Module.parameters of EEGEncoder(\n",
            "  (temporal_block): TemporalBlock(\n",
            "    (network): Sequential(\n",
            "      (0): Conv1d(128, 64, kernel_size=(3,), stride=(1,), padding=(3,))\n",
            "      (1): ReLU()\n",
            "      (2): Conv1d(64, 64, kernel_size=(3,), stride=(1,), padding=(6,), dilation=(2,))\n",
            "      (3): ReLU()\n",
            "      (4): Conv1d(64, 64, kernel_size=(3,), stride=(1,), padding=(12,), dilation=(4,))\n",
            "      (5): ReLU()\n",
            "      (6): Conv1d(64, 64, kernel_size=(3,), stride=(1,), padding=(24,), dilation=(8,))\n",
            "      (7): ReLU()\n",
            "    )\n",
            "  )\n",
            "  (spatial_block): SpatialBlock(\n",
            "    (network): Sequential(\n",
            "      (0): Conv2d(1, 32, kernel_size=(3, 3), stride=(1, 1), padding=(1, 1))\n",
            "      (1): BatchNorm2d(32, eps=1e-05, momentum=0.1, affine=True, track_running_stats=True)\n",
            "      (2): ReLU()\n",
            "      (3): Conv2d(32, 32, kernel_size=(3, 3), stride=(1, 1), padding=(1, 1))\n",
            "      (4): BatchNorm2d(32, eps=1e-05, momentum=0.1, affine=True, track_running_stats=True)\n",
            "      (5): ReLU()\n",
            "    )\n",
            "  )\n",
            "  (res_blocks): ModuleList(\n",
            "    (0-1): 2 x ResidualBlock(\n",
            "      (conv1): Conv2d(32, 32, kernel_size=(3, 3), stride=(1, 1), padding=(1, 1))\n",
            "      (conv2): Conv2d(32, 32, kernel_size=(3, 3), stride=(1, 1), padding=(1, 1))\n",
            "      (relu): ReLU()\n",
            "    )\n",
            "  )\n",
            "  (fc): Linear(in_features=32, out_features=40, bias=True)\n",
            ")>\n"
          ]
        }
      ],
      "source": [
        "print(model.parameters)"
      ]
    },
    {
      "cell_type": "code",
      "execution_count": null,
      "id": "fe285fb4",
      "metadata": {
        "id": "fe285fb4"
      },
      "outputs": [],
      "source": []
    }
  ],
  "metadata": {
    "accelerator": "GPU",
    "colab": {
      "gpuType": "T4",
      "provenance": []
    },
    "kernelspec": {
      "display_name": "Python 3 (ipykernel)",
      "language": "python",
      "name": "python3"
    },
    "language_info": {
      "codemirror_mode": {
        "name": "ipython",
        "version": 3
      },
      "file_extension": ".py",
      "mimetype": "text/x-python",
      "name": "python",
      "nbconvert_exporter": "python",
      "pygments_lexer": "ipython3",
      "version": "3.10.9"
    }
  },
  "nbformat": 4,
  "nbformat_minor": 5
}